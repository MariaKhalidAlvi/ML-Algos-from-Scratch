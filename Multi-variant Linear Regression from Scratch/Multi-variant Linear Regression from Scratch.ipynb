{
 "cells": [
  {
   "cell_type": "code",
   "execution_count": 13,
   "metadata": {},
   "outputs": [],
   "source": [
    "#libraries required\n",
    "import os\n",
    "import numpy as np\n",
    "import pandas as pd\n",
    "from matplotlib import pyplot as plt\n",
    "%matplotlib inline"
   ]
  },
  {
   "cell_type": "markdown",
   "metadata": {},
   "source": [
    "### Multivariate Linear Regression\n",
    "\n",
    "Implementation od multivariate linear regression (from scratch) to predict the quality of white wine given its chemical measures.The dataset contains 11 input varibles and one output variable. Here is the description:\n",
    "\n",
    "- $x_1$ = Fixed acidity \n",
    "- $x_2$ = Volatile acidity \n",
    "- $x_3$ = Citric acid \n",
    "- $x_4$ = Residual sugar \n",
    "- $x_5$ = Chlorides \n",
    "- $x_6$ = Free sulfur dioxide \n",
    "- $x_7$ = Total sulfur dioxide \n",
    "- $x_8$ = Density \n",
    "- $x_9$ = pH \n",
    "- $x_{10}$ = Sulphates \n",
    "- $x_{11}$ = Alcohol \n",
    "- $y$ = Quality (score between 0 and 10)\n",
    "\n",
    "### Implementation of cost function and gradient descent for multivariate linear regression"
   ]
  },
  {
   "cell_type": "code",
   "execution_count": 14,
   "metadata": {},
   "outputs": [],
   "source": [
    "# Load and Peprocess dataset\n",
    "def preProcessDataSet():\n",
    "    \n",
    "    dataSet = np.loadtxt(os.path.join(\"Data\", \"ex2data2.txt\"), delimiter=',')\n",
    "    x , y = dataSet[:, :11] , dataSet[:,11]\n",
    "    y = y.reshape(y.shape[0], 1)\n",
    "    \n",
    "    bais = np.ones((x.shape[0],1))   # intialize bais with one to length of input x    \n",
    "    x = np.column_stack((bais,x))   # stack bais and x1 to make loss funtion and gradient descent easy\n",
    "    \n",
    "    return x, y"
   ]
  },
  {
   "cell_type": "code",
   "execution_count": 15,
   "metadata": {},
   "outputs": [],
   "source": [
    "# Call data Preprocessing\n",
    "X, Y = preProcessDataSet()  "
   ]
  },
  {
   "cell_type": "code",
   "execution_count": 16,
   "metadata": {},
   "outputs": [],
   "source": [
    "#change data type accordinly\n",
    "X = X.astype(np.float)\n",
    "Y = Y.astype(np.float)      "
   ]
  },
  {
   "cell_type": "code",
   "execution_count": 17,
   "metadata": {},
   "outputs": [],
   "source": [
    "#Normalize all feature to optimize the learning process\n",
    "def  featureNormalize(x):\n",
    " \n",
    "    X_norm = x.copy()\n",
    "    \n",
    "    for i in range(x.shape[1]):\n",
    "        if i != 0:   # skip for bais which is X[:,0]\n",
    "            X_norm[:,i]= (x[:,i] - np.mean(x[:,i])) / np.std(x[:,i])\n",
    "\n",
    "    return X_norm"
   ]
  },
  {
   "cell_type": "code",
   "execution_count": 18,
   "metadata": {},
   "outputs": [],
   "source": [
    "#normalize data\n",
    "X = featureNormalize(X)"
   ]
  },
  {
   "cell_type": "code",
   "execution_count": 19,
   "metadata": {},
   "outputs": [],
   "source": [
    "#predict function\n",
    "def predict(X,W):\n",
    "    h_x = 0.0\n",
    "    hx=np.dot(X,W)\n",
    "    return hx"
   ]
  },
  {
   "cell_type": "markdown",
   "metadata": {},
   "source": [
    "The objective of linear regression is to minimize the cost function\n",
    "\n",
    "$$ J(\\theta) = \\frac{1}{2m} \\sum_{i=1}^m \\left( h_{\\theta}(x^{(i)}) - y^{(i)}\\right)^2$$ \n",
    "\n",
    "where the hypothesis $h_\\theta(x)$ is given by the linear model\n",
    "$$ h_\\theta(x) = \\theta_0 + \\theta_1 x$$"
   ]
  },
  {
   "cell_type": "code",
   "execution_count": 20,
   "metadata": {},
   "outputs": [],
   "source": [
    "# Calculates Loss\n",
    "def lossFunction( X , actual_Y , thetas ):\n",
    "        \n",
    "        m =  X.shape[0]    # number of total data points\n",
    "        m = m*2\n",
    "        \n",
    "        pred_Y = predict(X,thetas)              # predict Y by taking dot product of input data and related thetas\n",
    "        diff = pred_Y - actual_Y                # different between actual and predicted output\n",
    "        diff_square = np.power(diff, 2)         # squaring the difference    \n",
    "        summation = np.sum(diff_square)         # summation over all calculated differences\n",
    " \n",
    "        loss = summation/(2 * m)       # calculating loss\n",
    "        \n",
    "        return loss"
   ]
  },
  {
   "cell_type": "markdown",
   "metadata": {},
   "source": [
    "Paramenters need to be learned by Model are the $\\theta_j$ values. These are\n",
    "the values that will be adjusted to minimize cost $J(\\theta)$.\n",
    "One way to do this is to use the gradient descent algorithm. \n",
    "\n",
    "\n",
    "$$ \\theta_j = \\theta_j - \\alpha \\frac{1}{m} \\sum_{i=1}^m \\left( h_\\theta(x^{(i)}) - y^{(i)}\\right)x^{(j)} $$\n",
    "\n",
    "With each step of gradient descent,  parameters $\\theta_j$ come closer to the optimal values that will achieve the lowest cost J($\\theta$)."
   ]
  },
  {
   "cell_type": "code",
   "execution_count": 21,
   "metadata": {},
   "outputs": [],
   "source": [
    "# Gradient Descent\n",
    "def gradientDescent(X, Y, alpha,  no_of_iterations):\n",
    "        \n",
    "        thetas  =  np.zeros((X.shape[1],1), dtype = float) # initializes thetas for bais and X values\n",
    "        loss =  list()   # list for loss of each iteration\n",
    "        m =  X.shape[0]    # number of total data points\n",
    "        \n",
    "        for ittr in range(no_of_iterations):  # till no of itterations\n",
    "            \n",
    "            hx = predict(X,thetas)    # predict Y by taking dot product of input data and  new calculated thetas\n",
    "            diff = hx - Y       # calculate difference between actual and predicted Y\n",
    "            \n",
    "            for i in range(X.shape[1]):  # for each theta/feature\n",
    "                \n",
    "                summation = np.sum(diff.T* X[:,i]) # multiply the difference with each input column in X    \n",
    "                thetas[i] =  thetas[i] - ((alpha/m)*summation)  # update theta for each feature\n",
    "            \n",
    "                \n",
    "            loss.append(lossFunction(X,Y,thetas))   # calculate loss for each itteration\n",
    "                 \n",
    "        return thetas , loss"
   ]
  },
  {
   "cell_type": "code",
   "execution_count": 22,
   "metadata": {},
   "outputs": [],
   "source": [
    "#Train Model \n",
    "n_epochs = 100\n",
    "alpha = 0.01\n",
    "learned_thetas, loss_list = gradientDescent(X,Y, alpha, n_epochs)"
   ]
  },
  {
   "cell_type": "code",
   "execution_count": 23,
   "metadata": {},
   "outputs": [],
   "source": [
    "#Plot Loss\n",
    "def plotLoss(loss , no_of_iteration ): \n",
    "    plt.xticks(range(1,no_of_iteration))\n",
    "    plt.plot(loss)\n",
    "    plt.xlabel(\"No of iterations\")\n",
    "    plt.ylabel(\"Loss\")\n",
    "    plt.show()"
   ]
  },
  {
   "cell_type": "code",
   "execution_count": 24,
   "metadata": {},
   "outputs": [
    {
     "data": {
      "image/png": "[encoded data removed]",
      "text/plain": [
       "<Figure size 432x288 with 1 Axes>"
      ]
     },
     "metadata": {
      "needs_background": "light"
     },
     "output_type": "display_data"
    }
   ],
   "source": [
    "plotLoss(loss_list, n_epochs)"
   ]
  }
 ],
 "metadata": {
  "kernelspec": {
   "display_name": "Python 3",
   "language": "python",
   "name": "python3"
  },
  "language_info": {
   "codemirror_mode": {
    "name": "ipython",
    "version": 3
   },
   "file_extension": ".py",
   "mimetype": "text/x-python",
   "name": "python",
   "nbconvert_exporter": "python",
   "pygments_lexer": "ipython3",
   "version": "3.7.7"
  }
 },
 "nbformat": 4,
 "nbformat_minor": 4
}
