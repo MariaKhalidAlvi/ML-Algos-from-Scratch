{
 "cells": [
  {
   "cell_type": "code",
   "execution_count": 25,
   "metadata": {},
   "outputs": [],
   "source": [
    "#libraries\n",
    "import numpy as np\n",
    "import matplotlib.pyplot as plt \n",
    "import re\n",
    "import math\n",
    "import os\n",
    "import random\n",
    "from numpy import genfromtxt\n",
    "import csv\n",
    "import string\n",
    "import re\n",
    "from numpy import errstate,isneginf,array\n",
    "import random"
   ]
  },
  {
   "cell_type": "markdown",
   "metadata": {},
   "source": [
    "### Multinomial Logistic Regression\n",
    "### For Tweets Multiclass Sentiment Analysis (Positive, Negitive, Neutral)\n",
    "### Implementation of Cost Function, Gradient descent and Stochastic gradient for multivariate linear regression\n"
   ]
  },
  {
   "cell_type": "code",
   "execution_count": 26,
   "metadata": {},
   "outputs": [],
   "source": [
    "noOfClass = 3  # three classes\n",
    "dataset_dir = r'Tweets.csv' #directory\n",
    "stopWords = ['the','at','of', 'this','hence','an','do' , 'us', 'r' , 'u', 'ill','aa', 'did', 'im','also','with', 'to' ,'he','she', 'or' , 'a','that', 'in' , 'is' ,'on', 'for', 'our', 'by' , 'its' , 'my', 'your', 'you' , 'me', 'i', 'it', 'are', 'am','into', 'were' , 'was' , 'and' , 'so' , 'has', 'have', 'been','had', 'be' ]"
   ]
  },
  {
   "cell_type": "code",
   "execution_count": 27,
   "metadata": {},
   "outputs": [],
   "source": [
    "def predict(X,W):\n",
    "    hx=np.dot(X,W)\n",
    "    return hx"
   ]
  },
  {
   "cell_type": "code",
   "execution_count": 28,
   "metadata": {},
   "outputs": [],
   "source": [
    "#replace each label with numeric value\n",
    "def labelCovert(label):\n",
    "    if label  == 'neutral': return 0       \n",
    "    elif label  == 'positive': return 1\n",
    "    elif  label  == 'negative': return 2"
   ]
  },
  {
   "cell_type": "code",
   "execution_count": 29,
   "metadata": {},
   "outputs": [],
   "source": [
    "#remove puncutaiton from each tweet\n",
    "def remove_punctuation(sentence):\n",
    "    return sentence.translate(str.maketrans('', '', string.punctuation))  "
   ]
  },
  {
   "cell_type": "code",
   "execution_count": 30,
   "metadata": {},
   "outputs": [],
   "source": [
    "#Return array of bag of words \n",
    "def bagOfWords(text, vocab):\n",
    "    #sentence_words = extract_words(sentence)\n",
    "    # frequency word count\n",
    "    bag = np.zeros(len(vocab))\n",
    "    for word in text:\n",
    "        for i,w in enumerate(vocab):    #prepare bag of words\n",
    "            if w == word: \n",
    "                bag[i] += 1\n",
    "                \n",
    "    return np.array(bag)"
   ]
  },
  {
   "cell_type": "code",
   "execution_count": 31,
   "metadata": {},
   "outputs": [],
   "source": [
    "# read and seperate text and their labels\n",
    "labels = []\n",
    "texts = []\n",
    "with open(dataset_dir,'r',  encoding='utf8') as file:     \n",
    "    reader = csv.reader(file)\n",
    "    for row in reader:\n",
    "        labels.append(row[0])\n",
    "        texts.append(row[1])\n",
    "labels = labels[1:]\n",
    "texts = texts[0:]\n",
    "\n",
    "labels = [labelCovert(label) for label in labels ]\n",
    "labels, texts = zip(*sorted(zip(labels, texts)))"
   ]
  },
  {
   "cell_type": "code",
   "execution_count": 32,
   "metadata": {},
   "outputs": [],
   "source": [
    " #splits data into train and test in stratified way\n",
    "def splitData(labels, texts , splitPercentage):  \n",
    "    trainLabels =[]\n",
    "    testLabels = []\n",
    "    \n",
    "    trainTexts = []\n",
    "    testTexts = []\n",
    "    \n",
    "    neutralCount = labels.count(0)\n",
    "    positiveCount = labels.count(1)\n",
    "    negativeCount = labels.count(2)\n",
    "    \n",
    "    testNeutralCount = int(neutralCount * splitPercentage)\n",
    "    testPositiveCount = int(positiveCount * splitPercentage)\n",
    "    testNegativeCount = int(negativeCount * splitPercentage)\n",
    "\n",
    "    \n",
    "    testLabels = testLabels + list(labels[: (testNeutralCount)])\n",
    "    testTexts = testTexts + list(texts[: (testNeutralCount)])\n",
    "    \n",
    "    trainLabels = trainLabels + list(labels[testNeutralCount : (neutralCount )])\n",
    "    trainTexts = trainTexts +  list(texts[testNeutralCount : (neutralCount)])\n",
    "    \n",
    "    testPositiveCount =  neutralCount + testPositiveCount         \n",
    "\n",
    "    \n",
    "    testLabels = testLabels + list(labels[neutralCount : testPositiveCount])\n",
    "    testTexts = testTexts + list(texts[ neutralCount : testPositiveCount])\n",
    "    \n",
    "    trainLabels = trainLabels + list(labels[testPositiveCount : (neutralCount+positiveCount)])\n",
    "    trainTexts = trainTexts + list(texts[testPositiveCount : (neutralCount+positiveCount)])\n",
    "    \n",
    "    testNegativeCount =  neutralCount + positiveCount + testNegativeCount\n",
    "    \n",
    "    testLabels = testLabels + list(labels[(neutralCount+positiveCount) : testNegativeCount])\n",
    "    testTexts = testTexts + list(texts[ (neutralCount+positiveCount ) : testNegativeCount])\n",
    "    \n",
    "    trainLabels = trainLabels + list(labels[testNegativeCount:])\n",
    "    trainTexts = trainTexts + list(texts[testNegativeCount: ])\n",
    "    \n",
    "    return testLabels, testTexts ,trainLabels , trainTexts\n",
    "    "
   ]
  },
  {
   "cell_type": "code",
   "execution_count": 33,
   "metadata": {
    "scrolled": true
   },
   "outputs": [],
   "source": [
    "testLabels, testTexts ,trainLabels , trainTexts =  splitData(labels, texts , 0.20)"
   ]
  },
  {
   "cell_type": "code",
   "execution_count": 34,
   "metadata": {},
   "outputs": [],
   "source": [
    "#Cleans data by removing punctuations, stop words etc\n",
    "def cleanData(texts):\n",
    "    \n",
    "    for i,_ in enumerate(texts):\n",
    "        texts[i] = ' '.join(word for word in texts[i].split(' ') if not word.startswith('@')) #remove airline name\n",
    "        \n",
    "    texts = [str(np.char.lower(text)) for text in texts]  #lower case\n",
    "    texts = [remove_punctuation(text) for text in texts]  # remove puncuation\n",
    "    \n",
    "    for i,_ in enumerate(texts):\n",
    "        texts[i] = ' '.join(word for word in texts[i].split() if word not in stopWords) #remove stop words\n",
    "        texts[i] = re.sub(r\"http\\S+\", \"\", texts[i])  #remove URL\n",
    "        \n",
    "    return texts\n",
    "     "
   ]
  },
  {
   "cell_type": "code",
   "execution_count": 35,
   "metadata": {},
   "outputs": [],
   "source": [
    "#for bag of words\n",
    "def preProcessTextData(trainTexts, testTest):\n",
    "    trainTexts = cleanData(trainTexts)  # clean train tweets\n",
    "    testTest = cleanData(testTest)  # clean test tweets\n",
    "    \n",
    "    tokenizeTrainText = [text.split() for text in trainTexts] # tokenize train tweets\n",
    "    tokenizeTestText = [text.split() for text in testTest] # tokenize train tweets\n",
    "    \n",
    "    vocab = []\n",
    "    \n",
    "    for text in tokenizeTrainText:\n",
    "        vocab = vocab + text   # preparing list of all the words in train data\n",
    "    \n",
    "    for text in tokenizeTestText:\n",
    "        vocab = vocab + text   # preparing list of all the words test data\n",
    "        \n",
    "    vocab = set(vocab)  #remove dupliacates to prepare vocabloury of dataset\n",
    "    \n",
    "    trainDataList = [bagOfWords(text,vocab) for text in  tokenizeTrainText]   #bag of words for train data\n",
    "    trainDataMatrix = np.vstack(trainDataList)    # data Matrix for train data\n",
    "    trainBais = np.ones(trainDataMatrix.shape[0])\n",
    "    trainDataMatrix = np.column_stack((trainBais, trainDataMatrix))  # adding column for bais\n",
    "    \n",
    "    \n",
    "    testDataList = [bagOfWords(text,vocab) for text in  tokenizeTestText]   #bag of words for test data\n",
    "    testDataMatrix = np.vstack(testDataList)  # data Matrix for train data\n",
    "    testBais = np.ones(testDataMatrix.shape[0])\n",
    "    testDataMatrix = np.column_stack((testBais,testDataMatrix))  # adding column for bais\n",
    "    \n",
    "    \n",
    "    return vocab, trainDataMatrix , testDataMatrix"
   ]
  },
  {
   "cell_type": "code",
   "execution_count": 36,
   "metadata": {},
   "outputs": [],
   "source": [
    "vocab, trainDataMatrix , testDataMatrix  = preProcessTextData(trainTexts ,testTexts )"
   ]
  },
  {
   "cell_type": "code",
   "execution_count": 37,
   "metadata": {},
   "outputs": [],
   "source": [
    "# change label into 3 digits\n",
    "def preProcessLabelData(trainLabels, testLabels):    \n",
    "    \n",
    "    newTrainLabels = np.zeros((len(trainLabels), noOfClass))\n",
    "    \n",
    "    for i in range(newTrainLabels.shape[0]):\n",
    "        newTrainLabels[i,trainLabels[i]] = 1\n",
    "\n",
    "    \n",
    "    newTextLabels = np.zeros((len(testLabels), noOfClass))\n",
    "    \n",
    "    for i in range(newTextLabels.shape[0]):\n",
    "        newTextLabels[i,testLabels[i]] = 1\n",
    "        \n",
    "    return newTrainLabels, newTextLabels\n",
    "    "
   ]
  },
  {
   "cell_type": "code",
   "execution_count": 38,
   "metadata": {},
   "outputs": [],
   "source": [
    "newTrainLabels, newTextLabels =  preProcessLabelData(trainLabels, testLabels)"
   ]
  },
  {
   "cell_type": "code",
   "execution_count": 39,
   "metadata": {},
   "outputs": [],
   "source": [
    "#returns intial weights to start with\n",
    "def predictInitialWeight(DataMatrix):\n",
    "    weightMatrix = np.zeros(( noOfClass, DataMatrix.shape[1]))     #initial random weights\n",
    "    weightMatrix.fill(0.0)\n",
    "    return weightMatrix.T"
   ]
  },
  {
   "cell_type": "code",
   "execution_count": 40,
   "metadata": {},
   "outputs": [],
   "source": [
    "initialWeightMatrix =  predictInitialWeight(trainDataMatrix)"
   ]
  },
  {
   "cell_type": "markdown",
   "metadata": {},
   "source": [
    "$$ P(y=c|x) = \\frac{e^{w_c.x+b_c}}{\\sum_{j=1}^{k}e^{w_j.x+b_j}}$$\n"
   ]
  },
  {
   "cell_type": "code",
   "execution_count": 41,
   "metadata": {},
   "outputs": [],
   "source": [
    "# Softmax \n",
    "def getProbablities(dataMatrix, weights):\n",
    "    \n",
    "    probablities = predict(dataMatrix,weights)\n",
    "    probablities = np.exp(probablities)\n",
    "    sumHX = probablities.sum(axis=1)\n",
    "\n",
    "    for i in range(len(sumHX)):\n",
    "        probablities[i,:] =  probablities[i,:]/ sumHX[i]\n",
    "        \n",
    "    return probablities\n",
    "    "
   ]
  },
  {
   "cell_type": "code",
   "execution_count": 42,
   "metadata": {},
   "outputs": [],
   "source": [
    "initialProbablities = getProbablities(trainDataMatrix,initialWeightMatrix )"
   ]
  },
  {
   "cell_type": "markdown",
   "metadata": {},
   "source": [
    "$$L_{CE} (\\hat{y},y) =  - \\sum_{k=1}^{K}1 \\{y=k\\}log \\frac{e^{w_c.x+b_c}}{\\sum_{j=1}^{k}e^{w_j.x+b_j}}$$"
   ]
  },
  {
   "cell_type": "code",
   "execution_count": 43,
   "metadata": {},
   "outputs": [],
   "source": [
    "#calculate loss\n",
    "def lossFunction(dataMatrix, weightMatrix, trainLabels):\n",
    "    \n",
    "    probablities = getProbablities(dataMatrix, weightMatrix)   #return probablities\n",
    "    \n",
    "    logProbablities = np.log(probablities)      #log of probabilities\n",
    "    multiplication =  trainLabels * logProbablities    #multiply log of probablity with output labels\n",
    "    summation = multiplication.sum(axis=1)             # sum all the 3 output variables of each row\n",
    "    summation = np.sum(summation)                      #sum all the variables in summation \n",
    "            \n",
    "    totalLoss = -(summation/trainLabels.shape[0])       # divide by number of rows\n",
    "    \n",
    "    return totalLoss"
   ]
  },
  {
   "cell_type": "code",
   "execution_count": 44,
   "metadata": {},
   "outputs": [],
   "source": [
    "loss = lossFunction(trainDataMatrix, initialWeightMatrix, newTrainLabels)"
   ]
  },
  {
   "cell_type": "code",
   "execution_count": 45,
   "metadata": {},
   "outputs": [
    {
     "data": {
      "text/plain": [
       "1.0986122886681096"
      ]
     },
     "execution_count": 45,
     "metadata": {},
     "output_type": "execute_result"
    }
   ],
   "source": [
    "loss"
   ]
  },
  {
   "cell_type": "code",
   "execution_count": 46,
   "metadata": {},
   "outputs": [],
   "source": [
    "#Retrurn Slective row of data and train labels for batch stochatic gradient \n",
    "def getSelectedMatrices(rowNumbers, dataMatrix, trainLabels ):\n",
    "    \n",
    "    selectedDataMatrix = np.zeros((len(rowNumbers),dataMatrix.shape[1]), dtype = float)\n",
    "    selectedTrainLabels = np.zeros((len(rowNumbers),trainLabels.shape[1]), dtype = float)\n",
    "    \n",
    "    for index,rowNo in enumerate(rowNumbers):\n",
    "        selectedDataMatrix[index,:] = dataMatrix[rowNo,:]\n",
    "        selectedTrainLabels[index,:] = trainLabels[rowNo,:]\n",
    "        \n",
    "    return selectedDataMatrix, selectedTrainLabels"
   ]
  },
  {
   "cell_type": "markdown",
   "metadata": {},
   "source": [
    "$$ \\theta_j = \\theta_j - \\frac{\\alpha}{m} (-(1\\{y=k\\}\\frac{e^{w_c.x+b_c}}{\\sum_{j=1}^{k}e^{w_j.x+b_j}})x_k)$$"
   ]
  },
  {
   "cell_type": "code",
   "execution_count": 47,
   "metadata": {},
   "outputs": [],
   "source": [
    "#gradient stochastic\n",
    "def gradientscrochastic(dataMatrix, weightMatrix, trainLabels , alpha ,  epochs):\n",
    "    \n",
    "    \n",
    "    cost = []\n",
    "    \n",
    "    for epoch in range(epochs):   #no of epochs\n",
    "\n",
    "        rowNumbers = random.sample(range(1, (dataMatrix.shape[0] - 1)), 32)  #select 32 random indices for minibatch\n",
    "        m = len(rowNumbers)\n",
    "        stochasticDataMatrix , stochasticTrainLabels = getSelectedMatrices(rowNumbers,dataMatrix, trainLabels)\n",
    "        \n",
    "        probabilities = getProbablities(stochasticDataMatrix, weightMatrix)\n",
    "        \n",
    "        loss = stochasticTrainLabels - probabilities\n",
    "        \n",
    "        for feature in range(dataMatrix.shape[1]):    #for no of features\n",
    "        \n",
    "            featureData = stochasticDataMatrix[:,feature].reshape(-1,1)\n",
    "            multi = np.multiply(loss, featureData)\n",
    "            multi = multi * -1\n",
    "            summation = multi.sum(axis=0)\n",
    "            weightMatrix[feature,:] = weightMatrix[feature,:] - ((alpha/m)*summation)\n",
    "        \n",
    "        \n",
    "        cost.append(lossFunction(dataMatrix, weightMatrix , trainLabels))   #calculate loss with updated weights\n",
    "      \n",
    "        \n",
    "    return weightMatrix , cost\n",
    "     "
   ]
  },
  {
   "cell_type": "code",
   "execution_count": 48,
   "metadata": {
    "scrolled": false
   },
   "outputs": [],
   "source": [
    "#Call gradient Decent\n",
    "no_epochs = 3000\n",
    "alpha = 0.01\n",
    "weights , cost  =  gradientscrochastic(trainDataMatrix, initialWeightMatrix, newTrainLabels ,alpha , no_epochs)"
   ]
  },
  {
   "cell_type": "code",
   "execution_count": 49,
   "metadata": {},
   "outputs": [],
   "source": [
    "def plotLoss(cost , no_epochs ): \n",
    "    plt.xticks(range(1,no_epochs))\n",
    "    plt.plot(cost)\n",
    "    plt.xlabel(\"No of iterations\")\n",
    "    plt.ylabel(\"Loss\")\n",
    "    plt.show()"
   ]
  },
  {
   "cell_type": "code",
   "execution_count": 50,
   "metadata": {
    "scrolled": false
   },
   "outputs": [
    {
     "data": {
      "image/png": "[encoded data removed]",
      "text/plain": [
       "<Figure size 432x288 with 1 Axes>"
      ]
     },
     "metadata": {
      "needs_background": "light"
     },
     "output_type": "display_data"
    }
   ],
   "source": [
    "plotLoss(cost, no_epochs)"
   ]
  },
  {
   "cell_type": "code",
   "execution_count": 51,
   "metadata": {},
   "outputs": [],
   "source": [
    "#predict labels\n",
    "def predictLabels(dataMatrix, weightMatrix):  \n",
    "\n",
    "    probablities = getProbablities(dataMatrix,weightMatrix )\n",
    "    \n",
    "\n",
    "    predictedLabels =  np.zeros((probablities.shape[0],1))\n",
    "    \n",
    "    for k in range(probablities.shape[0]):\n",
    "        \n",
    "        predictedLabels[k] = np.argmax(probablities[k,:])\n",
    "        \n",
    "    return predictedLabels\n",
    "    "
   ]
  },
  {
   "cell_type": "code",
   "execution_count": 52,
   "metadata": {},
   "outputs": [],
   "source": [
    " #predict labels for test data\n",
    "predictedLableTest =  predictLabels(testDataMatrix, weights)"
   ]
  },
  {
   "cell_type": "code",
   "execution_count": 53,
   "metadata": {},
   "outputs": [],
   "source": [
    "# returns precision\n",
    "def getPrecision(TP, FP):  \n",
    "    return TP/(TP+FP)\n"
   ]
  },
  {
   "cell_type": "code",
   "execution_count": 54,
   "metadata": {},
   "outputs": [],
   "source": [
    "# returns recall\n",
    "def getRecall(TP,FN):   \n",
    "    return TP/(TP+FN)"
   ]
  },
  {
   "cell_type": "code",
   "execution_count": 55,
   "metadata": {},
   "outputs": [],
   "source": [
    " # returns accuracy\n",
    "def getAccuracy(TP,  total):  \n",
    "    return TP/total\n"
   ]
  },
  {
   "cell_type": "code",
   "execution_count": 56,
   "metadata": {},
   "outputs": [],
   "source": [
    "# function for evalution\n",
    "def perf_measure(y_actual, y_pred):\n",
    "    TP_Neutral = 0\n",
    "    FP_Neutral = 0\n",
    "    TN_Neutral = 0\n",
    "    FN_Neutral = 0\n",
    "    \n",
    "    TP_Positive = 0\n",
    "    FP_Positive = 0\n",
    "    TN_Positive = 0\n",
    "    FN_Positive = 0\n",
    "    \n",
    "    TP_Negative = 0\n",
    "    FP_Negative = 0\n",
    "    TN_Negative = 0\n",
    "    FN_Negative = 0\n",
    "    \n",
    "\n",
    "    for i in range(len(y_pred)): \n",
    "        if y_actual[i]==y_pred[i]==0:\n",
    "            TP_Neutral  += 1\n",
    "        if y_actual[i]==y_pred[i]==1:\n",
    "            TP_Positive  += 1\n",
    "        if y_actual[i]==y_pred[i]==2:\n",
    "            TP_Negative += 1\n",
    "        \n",
    "        if  y_actual[i]==0 and y_pred[i]!=0:\n",
    "            FN_Neutral += 1\n",
    "        if y_actual[i] ==1 and y_pred[i]!=1:\n",
    "            FN_Positive += 1\n",
    "        if y_actual[i]==2 and y_pred[i]!=2:\n",
    "            FN_Negative += 1\n",
    "        \n",
    "        if  y_pred[i]==0 and y_actual[i]!=y_pred[i]:\n",
    "            FP_Neutral += 1\n",
    "        if  y_pred[i]==1 and y_actual[i]!=y_pred[i]:\n",
    "            FP_Positive += 1\n",
    "        if  y_pred[i]==2 and y_actual[i]!=y_pred[i]:\n",
    "            FP_Negative += 1\n",
    "     \n",
    "    precisionNeutral = getPrecision(TP_Neutral,FP_Neutral)\n",
    "    precisionPositive = getPrecision(TP_Positive,FP_Positive)\n",
    "    precisionNegative = getPrecision(TP_Negative,FP_Negative)\n",
    "        \n",
    "    recallNeutral = getRecall(TP_Neutral,FN_Neutral)\n",
    "    recallPositive = getRecall(TP_Positive,FN_Positive)\n",
    "    recallNegative =   getRecall(TP_Negative,FN_Negative)\n",
    "        \n",
    "    accuray =  getAccuracy((TP_Neutral+TP_Positive+TP_Negative), len(y_pred))\n",
    "        \n",
    "    print(f\"Precision of Neutral:{precisionNeutral}\")\n",
    "    print(f\"Precision of Positive:{precisionPositive}\")\n",
    "    print(f\"Precision of Negative:{precisionNegative}\")\n",
    "        \n",
    "    print(f\"Recall of Neutral:{recallNeutral}\")\n",
    "    print(f\"Recall of Positive:{recallPositive}\")\n",
    "    print(f\"Recall of Negative:{recallNegative}\")\n",
    "        \n",
    "    print(f\"Overall Accuracy:{accuray}\")"
   ]
  },
  {
   "cell_type": "code",
   "execution_count": 57,
   "metadata": {},
   "outputs": [
    {
     "name": "stdout",
     "output_type": "stream",
     "text": [
      "Precision of Neutral:0.6391554702495201\n",
      "Precision of Positive:0.8009708737864077\n",
      "Precision of Negative:0.6997929606625258\n",
      "Recall of Neutral:0.7055084745762712\n",
      "Recall of Positive:0.6991525423728814\n",
      "Recall of Negative:0.7161016949152542\n",
      "Overall Accuracy:0.7069209039548022\n"
     ]
    }
   ],
   "source": [
    " # prints evaluation report\n",
    "testLabels = np.array(testLabels, dtype = np.float)\n",
    "perf_measure(testLabels,predictedLableTest)  "
   ]
  }
 ],
 "metadata": {
  "kernelspec": {
   "display_name": "Python 3",
   "language": "python",
   "name": "python3"
  },
  "language_info": {
   "codemirror_mode": {
    "name": "ipython",
    "version": 3
   },
   "file_extension": ".py",
   "mimetype": "text/x-python",
   "name": "python",
   "nbconvert_exporter": "python",
   "pygments_lexer": "ipython3",
   "version": "3.7.7"
  }
 },
 "nbformat": 4,
 "nbformat_minor": 2
}
