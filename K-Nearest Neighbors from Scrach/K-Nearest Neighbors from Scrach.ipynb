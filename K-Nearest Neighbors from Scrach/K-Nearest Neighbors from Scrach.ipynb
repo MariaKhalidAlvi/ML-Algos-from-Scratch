{
 "cells": [
  {
   "cell_type": "code",
   "execution_count": 16,
   "metadata": {},
   "outputs": [],
   "source": [
    "# libraries\n",
    "import numpy as np\n",
    "import matplotlib.pyplot as plt \n",
    "import re\n",
    "import math\n",
    "import os\n",
    "import random\n",
    "from numpy import genfromtxt\n",
    "import csv\n",
    "import string\n",
    "import re\n",
    "from numpy import errstate,isneginf,array\n",
    "import random\n",
    "import pandas as pd\n",
    "import copy "
   ]
  },
  {
   "cell_type": "markdown",
   "metadata": {},
   "source": [
    "## K-Nearest Neighbors from Scrach"
   ]
  },
  {
   "cell_type": "code",
   "execution_count": 17,
   "metadata": {},
   "outputs": [],
   "source": [
    "#converts class labels to digits\n",
    "\n",
    "def convertLabels(label):\n",
    "    \n",
    "    if label == \"Iris-setosa\": return 0\n",
    "    elif label  == 'Iris-versicolor': return 1       #replace each label with numeric value\n",
    "    elif label  == 'Iris-virginica': return 2\n"
   ]
  },
  {
   "cell_type": "code",
   "execution_count": 18,
   "metadata": {},
   "outputs": [],
   "source": [
    "#calculates and return euclidian distance\n",
    "def getEuclideanDist(D,t):\n",
    "    \n",
    "    euc_dis = []\n",
    "    \n",
    "    for i in range(len(D)):\n",
    "        d = D[i,:]\n",
    "        sum = 0\n",
    "        \n",
    "        for j in range(4):\n",
    "            sum += np.square(np.absolute(d[j] - t[j]))     # sum of square of differences\n",
    "        euc_dis.append(np.sqrt(sum))    # square root\n",
    "    \n",
    "    return euc_dis"
   ]
  },
  {
   "cell_type": "code",
   "execution_count": 19,
   "metadata": {},
   "outputs": [],
   "source": [
    "#return pivot for quickSelect\n",
    "def getPartitionPivot(array, left, right): \n",
    "      \n",
    "    x = array[right] \n",
    "    i = left\n",
    "    for j in range(left, right):     # shifts all smaller element than pivot to left and larger to right\n",
    "          \n",
    "        if array[j] <= x: \n",
    "            array[i], array[j] = array[j], array[i] \n",
    "            i += 1\n",
    "              \n",
    "    array[i], array[right] = array[right], array[i] \n",
    "    \n",
    "    return i    # return new index of pivot after partitioning"
   ]
  },
  {
   "cell_type": "code",
   "execution_count": 20,
   "metadata": {},
   "outputs": [],
   "source": [
    "#return kth largest value from array\n",
    "def quickSelect(array, left, right, k): \n",
    "   \n",
    "    if (k > 0 and k <= right - left + 1): \n",
    "        \n",
    "       \n",
    "        index = getPartitionPivot(array, left, right) \n",
    "        \n",
    "        # if position is same as value of k \n",
    "        if (index - left == k - 1): \n",
    "            return array[index] \n",
    "  \n",
    "        # If position is more, recurrsion for left subarray  \n",
    "        if (index - left > k - 1): \n",
    "            return quickSelect(array, left, index - 1, k) \n",
    "  \n",
    "        # Else recurrsion for right subarray  \n",
    "        return quickSelect(array, index + 1, right,  \n",
    "                            k - index + left - 1) \n",
    "    return maxInt "
   ]
  },
  {
   "cell_type": "code",
   "execution_count": 21,
   "metadata": {},
   "outputs": [],
   "source": [
    "#returns majorty element (most common element)\n",
    "def getMajorityElement(array, k): \n",
    "  \n",
    "    maximumCount = 0; \n",
    "    index = -1\n",
    "    \n",
    "    for i in range(k): \n",
    "      \n",
    "        count = 0\n",
    "        for j in range(k): \n",
    "          \n",
    "            if(array[i] == array[j]): \n",
    "                count += 1\n",
    "\n",
    "        if(count > maximumCount): \n",
    "          \n",
    "            maximumCount = count          # keeps track of majority element\n",
    "            index = i \n",
    "   \n",
    "    return array[index] \n",
    "      \n"
   ]
  },
  {
   "cell_type": "code",
   "execution_count": 22,
   "metadata": {},
   "outputs": [],
   "source": [
    "# preprocess data and returns x and y value of train and test data\n",
    "def preProcessData():\n",
    "    \n",
    "    train_data = pd.read_csv('train.csv', header = None, index_col = False)    # preparing train data\n",
    "    x_train = train_data[[0,1,2,3]].to_numpy()\n",
    "    y_train = train_data[[4]].to_numpy()\n",
    "    y_train = [convertLabels(label) for label in y_train ] \n",
    "\n",
    "    test_data = pd.read_csv('test.csv', header = None, index_col = False)    # prepering test data\n",
    "    x_test = test_data[[0,1,2,3]].to_numpy() \n",
    "    y_test = test_data[[4]].to_numpy()\n",
    "    y_test = [convertLabels(label) for label in y_test ]\n",
    "    \n",
    "    return x_train,y_train, x_test, y_test"
   ]
  },
  {
   "cell_type": "code",
   "execution_count": 23,
   "metadata": {},
   "outputs": [],
   "source": [
    "x_train,y_train, x_test, y_test = preProcessData()    # get x and y walues for train and test"
   ]
  },
  {
   "cell_type": "code",
   "execution_count": 24,
   "metadata": {},
   "outputs": [],
   "source": [
    "#predict test data\n",
    "def predictTestData(x_train,y_train, x_test, k ):\n",
    "    \n",
    "    y_values = []\n",
    "    for i in range(len(x_test)):\n",
    "    \n",
    "        dis_list = getEuclideanDist(x_train,x_test[i,:])   # calculates euclidian distance\n",
    "        n =len(dis_list)\n",
    "        dis_list2 = copy.deepcopy(dis_list)    # deep copy to keep orignal array from changing\n",
    "        kth_value =quickSelect(np.asarray(dis_list2), 0, n - 1, k)   # return kth largest value\n",
    "        \n",
    "        indexes = []\n",
    "        elementNo = 0         # to keep the no of element for S_D equal to k\n",
    "        for j in range(len(dis_list)):\n",
    "            if dis_list[j] <= kth_value:\n",
    "                if elementNo < k: \n",
    "                    indexes.append(j)     # appends the indices of S_D element\n",
    "                    elementNo = elementNo +1\n",
    "                else:\n",
    "                    break\n",
    "                \n",
    "        y_values.append([ y_train[k] for k in indexes])   # return y labels for elements in S_D\n",
    "        \n",
    "    if(k == 1):                                   # if k =1 , we dont need to get majority element\n",
    "        return  np.asarray(y_values)\n",
    "    else:\n",
    "        y_pred = [ getMajorityElement(y_value , k) for y_value in y_values ]\n",
    "        return np.asarray(y_pred)\n",
    "    \n",
    "\n"
   ]
  },
  {
   "cell_type": "code",
   "execution_count": 25,
   "metadata": {},
   "outputs": [],
   "source": [
    "def getAccuracy(TP,  total):   # returns accuracy\n",
    "    return TP/total"
   ]
  },
  {
   "cell_type": "code",
   "execution_count": 26,
   "metadata": {},
   "outputs": [],
   "source": [
    "# function for evalution\n",
    "def perf_measure(y_actual, y_pred):\n",
    "    \n",
    "    TP = 0\n",
    "    for i in range(len(y_pred)): \n",
    "        if y_actual[i]==y_pred[i]:\n",
    "            TP = TP + 1\n",
    "    return getAccuracy(TP, len(y_pred))\n",
    "    "
   ]
  },
  {
   "cell_type": "code",
   "execution_count": 27,
   "metadata": {},
   "outputs": [
    {
     "name": "stdout",
     "output_type": "stream",
     "text": [
      "***********************\n",
      "Accuracy with K = 1\n",
      "1.0\n",
      "***********************\n",
      "\n",
      "***********************\n",
      "Accuracy with K = 3\n",
      "1.0\n",
      "***********************\n",
      "\n",
      "***********************\n",
      "Accuracy with K = 5\n",
      "1.0\n",
      "***********************\n",
      "\n"
     ]
    }
   ],
   "source": [
    "#for K = [1,3,5]\n",
    "\n",
    "k_values = [1,3,5]  # values of K\n",
    "\n",
    "for k in k_values:  # Evaluate for all values of K\n",
    "    \n",
    "    y_pred = predictTestData(x_train,y_train, x_test, k )  # predict Y labels for test data\n",
    "    accuracy =perf_measure(y_test,y_pred) # accuracy\n",
    "    print(\"***********************\")\n",
    "    print(f\"Accuracy with K = {k}\")\n",
    "    print(accuracy)\n",
    "    print(\"***********************\\n\")"
   ]
  }
 ],
 "metadata": {
  "kernelspec": {
   "display_name": "Python 3",
   "language": "python",
   "name": "python3"
  },
  "language_info": {
   "codemirror_mode": {
    "name": "ipython",
    "version": 3
   },
   "file_extension": ".py",
   "mimetype": "text/x-python",
   "name": "python",
   "nbconvert_exporter": "python",
   "pygments_lexer": "ipython3",
   "version": "3.7.7"
  }
 },
 "nbformat": 4,
 "nbformat_minor": 2
}
